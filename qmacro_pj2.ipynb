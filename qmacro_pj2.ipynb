{
  "nbformat": 4,
  "nbformat_minor": 0,
  "metadata": {
    "colab": {
      "provenance": [],
      "authorship_tag": "ABX9TyOp+Eg8K2joDPLv3Co4+aQU",
      "include_colab_link": true
    },
    "kernelspec": {
      "name": "python3",
      "display_name": "Python 3"
    },
    "language_info": {
      "name": "python"
    }
  },
  "cells": [
    {
      "cell_type": "markdown",
      "metadata": {
        "id": "view-in-github",
        "colab_type": "text"
      },
      "source": [
        "<a href=\"https://colab.research.google.com/github/taiga0803/q-macro-assignment/blob/main/qmacro_pj2.ipynb\" target=\"_parent\"><img src=\"https://colab.research.google.com/assets/colab-badge.svg\" alt=\"Open In Colab\"/></a>"
      ]
    },
    {
      "cell_type": "code",
      "execution_count": 2,
      "metadata": {
        "id": "8rhMGOYihPVs"
      },
      "outputs": [],
      "source": [
        "import pandas as pd\n",
        "import numpy as np\n",
        "import matplotlib.pyplot as plt"
      ]
    },
    {
      "cell_type": "code",
      "source": [
        "# pwtから最新データ(vol10.1)の読み込み\n",
        "pwt1001 = pd.read_stata('https://dataverse.nl/api/access/datafile/354098')\n",
        "\n",
        "#必要な国とデータの抽出\n",
        "data = pwt1001.loc[pwt1001['country'].isin([\"France\",\"Germany\",\"Canada\",\"Italy\",\"Japan\",\"United Kingdom\",\"United States\"])][['year', 'countrycode', 'rgdpna', 'pop', 'avh', 'rkna', 'emp','rtfpna', 'labsh']]\n",
        "data = data.loc[(data['year'] >= 1995) & (data['year'] <= 2019)].dropna()"
      ],
      "metadata": {
        "id": "VouPHCIFhWmj"
      },
      "execution_count": 24,
      "outputs": []
    },
    {
      "cell_type": "code",
      "source": [
        "# Y=AK^(α)L^(1-α) の各変数の定義づけを行う\n",
        "data['Y'] = data['rgdpna'] #GDP\n",
        "data['alpha'] = 1 - data['labsh']  # 資本分配率\n",
        "data['KL'] = (data['rkna']**data['alpha']) * (data['emp']**(1 - data['alpha'])) #K^(α)L^(1-α)\n",
        "data['A'] = data['rgdpna'] / ((data['rkna']**data['alpha']) * (data['emp']**(1 - data['alpha']))) # A：技術資本\n",
        "\n",
        "# 両辺をL(emp)で割り、y=Ak^αの形にし、同時に両辺対数を取る\n",
        "data['logy'] = np.log(data['rgdpna'] / data['emp']) \n",
        "data['logk'] = np.log(data['KL'] / data['emp']) \n",
        "data['logA'] = np.log(data['A'])\n",
        "\n",
        "#時間で微分するため、time diffeernceを取る\n",
        "data['dt'] = data['year'].diff()  \n",
        "\n",
        "# 対数差分をdtで割ることによって、時間で微分。\n",
        "data['dlogy_dt'] = data['logy'].diff() / data['dt']\n",
        "data['dlogk_dt'] = data['logk'].diff() / data['dt']\n",
        "data['dlogA_dt'] = data['logA'].diff() / data['dt']\n",
        "\n",
        "# 並べ替え、グループ化\n",
        "data = data.sort_values('year')\n",
        "grouped_data = data.groupby('countrycode')\n",
        "\n",
        "# TFP成長率と資本深化率を計算\n",
        "data['TFP_growth'] = data['dlogA_dt'] * 100  # TFP成長率\n",
        "data['capital_deepening'] = data['dlogk_dt'] * 100  # 資本深化率\n",
        "data['GDP_growth'] = data['dlogy_dt'] * 100  # 経済成長率（GDP成長率）\n",
        "\n",
        "# 欠損値を削除\n",
        "data = data.dropna()\n",
        "\n",
        "# 各国平均を導出\n",
        "summary = data.groupby('countrycode').agg({'GDP_growth': 'mean',\n",
        "                                           'capital_deepening': 'mean',\n",
        "                                           'TFP_growth': 'mean'})\n",
        "\n",
        "# TFP寄与率と資本深化寄与率を計算\n",
        "summary['TFP_share'] = summary['TFP_growth'] / summary['GDP_growth'] * 100\n",
        "summary['capital_deepening_share'] = summary['capital_deepening'] / summary['GDP_growth'] * 100\n",
        "\n",
        "print(summary)"
      ],
      "metadata": {
        "id": "u2magiQNgnjn",
        "colab": {
          "base_uri": "https://localhost:8080/"
        },
        "outputId": "2383b2ef-a439-453f-bf44-88c4db681a43"
      },
      "execution_count": 25,
      "outputs": [
        {
          "output_type": "stream",
          "name": "stdout",
          "text": [
            "             GDP_growth  capital_deepening  TFP_growth    TFP_share  \\\n",
            "countrycode                                                           \n",
            "CAN            0.887700           0.239437    0.648264    73.027397   \n",
            "DEU            0.662448           0.161122    0.501324    75.677399   \n",
            "FRA            0.816542           0.603822    0.212720    26.051325   \n",
            "GBR            1.036837           1.311810   -0.274969   -26.520018   \n",
            "ITA           -0.045964           0.503274   -0.549236  1194.914917   \n",
            "JPN            0.757615           0.036508    0.721106    95.181152   \n",
            "USA            1.440635           0.605465    0.835166    57.972073   \n",
            "\n",
            "             capital_deepening_share  \n",
            "countrycode                           \n",
            "CAN                        26.972775  \n",
            "DEU                        24.322161  \n",
            "FRA                        73.948730  \n",
            "GBR                       126.520309  \n",
            "ITA                     -1094.921265  \n",
            "JPN                         4.818804  \n",
            "USA                        42.027660  \n"
          ]
        }
      ]
    },
    {
      "cell_type": "code",
      "execution_count": null,
      "metadata": {
        "id": "EjhfD-rszB3I"
      },
      "outputs": [],
      "source": []
    },
    {
      "cell_type": "code",
      "source": [
        "\n"
      ],
      "metadata": {
        "id": "vJl9JCXekPDn"
      },
      "execution_count": null,
      "outputs": []
    }
  ]
}