{
  "nbformat": 4,
  "nbformat_minor": 0,
  "metadata": {
    "colab": {
      "provenance": [],
      "authorship_tag": "ABX9TyOwi/ayhUharBLw1eJbk5Bi",
      "include_colab_link": true
    },
    "kernelspec": {
      "name": "python3",
      "display_name": "Python 3"
    },
    "language_info": {
      "name": "python"
    }
  },
  "cells": [
    {
      "cell_type": "markdown",
      "metadata": {
        "id": "view-in-github",
        "colab_type": "text"
      },
      "source": [
        "<a href=\"https://colab.research.google.com/github/taiga0803/q-macro-assignment/blob/main/qmacro_pj2.ipynb\" target=\"_parent\"><img src=\"https://colab.research.google.com/assets/colab-badge.svg\" alt=\"Open In Colab\"/></a>"
      ]
    },
    {
      "cell_type": "code",
      "execution_count": 12,
      "metadata": {
        "id": "8rhMGOYihPVs"
      },
      "outputs": [],
      "source": [
        "import pandas as pd\n",
        "import numpy as np\n",
        "import matplotlib.pyplot as plt"
      ]
    },
    {
      "cell_type": "code",
      "source": [
        "# pwtから最新データ(vol10.1)の読み込み\n",
        "pwt1001 = pd.read_stata('https://dataverse.nl/api/access/datafile/354098')\n",
        "\n",
        "#必要な国とデータの抽出\n",
        "data = pwt1001.loc[pwt1001['country'].isin([\"France\",\"Germany\",\"Canada\",\"Italy\",\"Japan\",\"United Kingdom\",\"United States\"])][['year', 'countrycode', 'rgdpna', 'pop', 'avh', 'rkna', 'emp','rtfpna', 'labsh']]\n",
        "data = data.loc[(data['year'] >= 1995) & (data['year'] <= 2019)].dropna()\n",
        "data = data.sort_values('year')"
      ],
      "metadata": {
        "id": "VouPHCIFhWmj"
      },
      "execution_count": 24,
      "outputs": []
    },
    {
      "cell_type": "code",
      "source": [
        "# 必要な変数の計算\n",
        "data['alpha'] = 1 - data['labsh']\n",
        "data['y_n'] = data['rgdpna'] / data['emp']  # Y/N\n",
        "data['hours'] = data['emp'] * data['avh']  # L\n",
        "data['tfp_term'] = data['rtfpna'] ** (1 / (1 - data['alpha'])) # A^(1/(1-alpha))\n",
        "data['cap_term'] = (data['rkna'] / data['rgdpna']) ** (data['alpha'] / (1 - data['alpha'])) # (K/Y)^(alpha/(1-alpha))\n",
        "data['lab_term'] = data['hours'] / data['pop']  # L/N\n",
        "data = data.sort_values('year').groupby('countrycode').apply(lambda x: x.assign(\n",
        "    alpha=1 - x['labsh'],\n",
        "    y_n_shifted=100 * x['y_n'] / x['y_n'].iloc[0],\n",
        "    tfp_term_shifted=100 * x['tfp_term'] / x['tfp_term'].iloc[0],\n",
        "    cap_term_shifted=100 * x['cap_term'] / x['cap_term'].iloc[0],\n",
        "    lab_term_shifted=100 * x['lab_term'] / x['lab_term'].iloc[0]\n",
        ")).reset_index(drop=True).dropna()\n",
        "\n",
        "# Calculate growth rates and shares\n",
        "data['g'] = grouped_data['y_n_shifted'].diff() *100  # GDP per capitaの成長率（前年比）\n",
        "data['tfp_growth'] = grouped_data['tfp_term_shifted'].diff() *100 # TFPの成長率（前年比）\n",
        "data['capital_deepening'] = grouped_data['cap_term_shifted'].diff() *100 # 資本深化の成長率（前年比）\n",
        "data['tfp_share'] = (data['tfp_growth'] / data['g'])*100   # GDP成長率に対するTFP成長率の寄与率（割合）\n",
        "data['capital_share'] = (data['capital_deepening'] / data['g'])*100  # GDP成長率に対する資本深化の寄与率（割合）\n",
        "\n",
        "# Remove missing values\n",
        "data = data.dropna()\n",
        "\n",
        "summary = data.groupby('countrycode').agg({'g': 'mean', 'tfp_growth': 'mean', 'capital_deepening': 'mean', 'tfp_share': 'mean', 'capital_share': 'mean'})\n",
        "\n",
        "# Print output\n",
        "print(summary)"
      ],
      "metadata": {
        "id": "u2magiQNgnjn",
        "colab": {
          "base_uri": "https://localhost:8080/"
        },
        "outputId": "13506274-3ecd-41d6-8914-b62e3b3947bd"
      },
      "execution_count": 49,
      "outputs": [
        {
          "output_type": "stream",
          "name": "stdout",
          "text": [
            "                     g  tfp_growth  capital_deepening   tfp_share  \\\n",
            "countrycode                                                         \n",
            "CAN          50.415497  -90.208130       -1619.285645  180.716080   \n",
            "DEU         -15.100708 -159.566040         652.729614 -136.206543   \n",
            "FRA          28.414307 -109.923546        1158.504028  275.135315   \n",
            "GBR          56.980591  -60.276184        5223.901367  159.587021   \n",
            "ITA         -74.203331 -167.333527        1108.676147  960.976685   \n",
            "JPN         -17.607727 -153.087311        5987.361816   58.726482   \n",
            "USA         -68.788300 -165.405731        3305.912598  209.647308   \n",
            "\n",
            "             capital_share  \n",
            "countrycode                 \n",
            "CAN           -2285.085205  \n",
            "DEU            2896.203613  \n",
            "FRA             110.163406  \n",
            "GBR           -6038.313477  \n",
            "ITA           -1957.532471  \n",
            "JPN           -4767.951172  \n",
            "USA           -2845.221191  \n"
          ]
        },
        {
          "output_type": "stream",
          "name": "stderr",
          "text": [
            "<ipython-input-49-dc5f5864d272>:8: FutureWarning: Not prepending group keys to the result index of transform-like apply. In the future, the group keys will be included in the index, regardless of whether the applied function returns a like-indexed object.\n",
            "To preserve the previous behavior, use\n",
            "\n",
            "\t>>> .groupby(..., group_keys=False)\n",
            "\n",
            "To adopt the future behavior and silence this warning, use \n",
            "\n",
            "\t>>> .groupby(..., group_keys=True)\n",
            "  data = data.sort_values('year').groupby('countrycode').apply(lambda x: x.assign(\n"
          ]
        }
      ]
    },
    {
      "cell_type": "code",
      "execution_count": 8,
      "metadata": {
        "id": "EjhfD-rszB3I"
      },
      "outputs": [],
      "source": []
    },
    {
      "cell_type": "code",
      "source": [
        "\n"
      ],
      "metadata": {
        "id": "vJl9JCXekPDn"
      },
      "execution_count": 8,
      "outputs": []
    }
  ]
}